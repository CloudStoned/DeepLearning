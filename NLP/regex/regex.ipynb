{
 "cells": [
  {
   "cell_type": "code",
   "execution_count": null,
   "metadata": {},
   "outputs": [],
   "source": [
    "import re"
   ]
  },
  {
   "cell_type": "code",
   "execution_count": 43,
   "metadata": {},
   "outputs": [
    {
     "name": "stderr",
     "output_type": "stream",
     "text": [
      "<>:7: SyntaxWarning: invalid escape sequence '\\d'\n",
      "<>:9: SyntaxWarning: invalid escape sequence '\\('\n",
      "<>:10: SyntaxWarning: invalid escape sequence '\\('\n",
      "<>:7: SyntaxWarning: invalid escape sequence '\\d'\n",
      "<>:9: SyntaxWarning: invalid escape sequence '\\('\n",
      "<>:10: SyntaxWarning: invalid escape sequence '\\('\n",
      "C:\\Users\\Kraum\\AppData\\Local\\Temp\\ipykernel_12732\\2642759829.py:7: SyntaxWarning: invalid escape sequence '\\d'\n",
      "  age = get_pattern_match('age (\\d+)', text)\n",
      "C:\\Users\\Kraum\\AppData\\Local\\Temp\\ipykernel_12732\\2642759829.py:9: SyntaxWarning: invalid escape sequence '\\('\n",
      "  birth_date = get_pattern_match('Born.*\\n(.*)\\(age', text)\n",
      "C:\\Users\\Kraum\\AppData\\Local\\Temp\\ipykernel_12732\\2642759829.py:10: SyntaxWarning: invalid escape sequence '\\('\n",
      "  birth_place = get_pattern_match('\\(age.*\\n(.*)', text)\n"
     ]
    }
   ],
   "source": [
    "def get_pattern_match(pattern, text):\n",
    "    matches = re.findall(pattern,text)\n",
    "    if matches:\n",
    "        return matches[0].strip()\n",
    "    \n",
    "def extract_personal_information(text):\n",
    "    age = get_pattern_match('age (\\d+)', text)\n",
    "    full_name = get_pattern_match('Born(.*)\\n', text)\n",
    "    birth_date = get_pattern_match('Born.*\\n(.*)\\(age', text)\n",
    "    birth_place = get_pattern_match('\\(age.*\\n(.*)', text)\n",
    "    \n",
    "    return {\n",
    "        'age': int(age),\n",
    "        'name': full_name.strip(),\n",
    "        'birth_date': birth_date.strip(),\n",
    "        'birth_place': birth_place.strip()\n",
    "    }"
   ]
  },
  {
   "cell_type": "code",
   "execution_count": null,
   "metadata": {},
   "outputs": [],
   "source": [
    "chat1 = 'codebasics: you ask a lot of questions 😠 1235678912, abc@xyz.com'\n",
    "chat2 = 'codebasics: here it is :(123)-567-8912, abc@xyz.com'\n",
    "chat3 = 'codebasics: yes, phone: 1235678912 email:abc@xyz.com'"
   ]
  },
  {
   "cell_type": "code",
   "execution_count": null,
   "metadata": {},
   "outputs": [],
   "source": [
    "num_pattern = r'\\d{10}|\\(\\d{3}\\)-\\d{3}-\\d{4}'\n",
    "email_pattern = r'[a-z0-9A-Z_]*@[a-z0-9A-Z]*\\.[a-zA-Z]*'\n",
    "\n",
    "matches = re.findall(email_pattern, chat3)\n",
    "matches"
   ]
  },
  {
   "cell_type": "code",
   "execution_count": null,
   "metadata": {},
   "outputs": [],
   "source": [
    "chat1='codebasics: Hello, I am having an issue with my order # 412889912'\n",
    "chat2='codebasics: I have a problem with my order number 412889912'\n",
    "chat3='codebasics: My order 412882 is having an issue, I was charged 300$ when online it says 280$'\n",
    "\n",
    "order_num_pattern = r'order[^\\d]*(\\d*)'\n",
    "\n",
    "matches = re.findall(order_num_pattern, chat3)\n",
    "matches"
   ]
  },
  {
   "cell_type": "markdown",
   "metadata": {},
   "source": [
    "### Information Extraction"
   ]
  },
  {
   "cell_type": "code",
   "execution_count": null,
   "metadata": {},
   "outputs": [],
   "source": [
    "text='''\n",
    "Born\tElon Reeve Musk\n",
    "June 28, 1971 (age 50)\n",
    "Pretoria, Transvaal, South Africa\n",
    "Citizenship\t\n",
    "South Africa (1971-present)\n",
    "Canada (1971-present)\n",
    "United States (2002-present)\n",
    "Education\tUniversity of Pennsylvania (BS, BA)\n",
    "Title\t\n",
    "Founder, CEO and Chief Engineer of SpaceX\n",
    "CEO and product architect of Tesla, Inc.\n",
    "Founder of The Boring Company and X.com (now part of PayPal)\n",
    "Co-founder of Neuralink, OpenAI, and Zip2\n",
    "Spouse(s)\t\n",
    "Justine Wilson\n",
    "\n",
    "(m. 2000; div. 2008)\n",
    "Talulah Riley\n",
    "\n",
    "(m. 2010; div. 2012)\n",
    "\n",
    "(m. 2013; div. 2016)\n",
    "'''\n",
    "\n",
    "age_pattern = r'age (\\d+)*'\n",
    "name_pattern = r'Born(.*)'\n",
    "born_pattern = r'Born.*\\n(.*)\\(age'\n",
    "birthplace_pattern = r'\\(age.*\\n(.*)'\n",
    "\n",
    "\n",
    "matches = get_pattern_match(name_pattern,text)\n",
    "matches"
   ]
  },
  {
   "cell_type": "code",
   "execution_count": 44,
   "metadata": {},
   "outputs": [
    {
     "data": {
      "text/plain": [
       "{'age': 50,\n",
       " 'name': 'Elon Reeve Musk',\n",
       " 'birth_date': 'June 28, 1971',\n",
       " 'birth_place': 'Pretoria, Transvaal, South Africa'}"
      ]
     },
     "execution_count": 44,
     "metadata": {},
     "output_type": "execute_result"
    }
   ],
   "source": [
    "extract_personal_information(text)"
   ]
  }
 ],
 "metadata": {
  "kernelspec": {
   "display_name": "venv",
   "language": "python",
   "name": "python3"
  },
  "language_info": {
   "codemirror_mode": {
    "name": "ipython",
    "version": 3
   },
   "file_extension": ".py",
   "mimetype": "text/x-python",
   "name": "python",
   "nbconvert_exporter": "python",
   "pygments_lexer": "ipython3",
   "version": "3.12.4"
  }
 },
 "nbformat": 4,
 "nbformat_minor": 2
}
